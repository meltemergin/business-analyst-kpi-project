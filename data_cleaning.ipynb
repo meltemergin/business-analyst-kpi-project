{
 "cells": [
  {
   "cell_type": "code",
   "execution_count": 5,
   "id": "2b00b702-8527-42b7-93fe-e95f76f3f3ff",
   "metadata": {},
   "outputs": [],
   "source": [
    "import pandas as pd"
   ]
  },
  {
   "cell_type": "code",
   "execution_count": null,
   "id": "133c257c-ac93-4877-a4b8-c0d2aee71992",
   "metadata": {},
   "outputs": [],
   "source": [
    "# Loading the dataset\n",
    "df = pd.read_csv(\"ecommerce_data.csv\", encoding=\"ISO-8859-1\")"
   ]
  },
  {
   "cell_type": "code",
   "execution_count": 9,
   "id": "58a3193a-bcab-4a4e-a774-cccfeb3263bc",
   "metadata": {},
   "outputs": [],
   "source": [
    "# Drop nulls\n",
    "df = df.dropna(subset=[\"CustomerID\", \"Description\"])"
   ]
  },
  {
   "cell_type": "code",
   "execution_count": 11,
   "id": "87422a64-3a48-4ea6-96e8-3be94d541881",
   "metadata": {},
   "outputs": [],
   "source": [
    "# Remove negative/zero quantities (keep them separately for return analysis)\n",
    "returns = df[df[\"Quantity\"] < 0]\n",
    "df = df[df[\"Quantity\"] > 0]"
   ]
  },
  {
   "cell_type": "code",
   "execution_count": 13,
   "id": "506d5142-1bf2-4a2f-b201-44e7a35516ec",
   "metadata": {},
   "outputs": [],
   "source": [
    "# Convert dates\n",
    "df[\"InvoiceDate\"] = pd.to_datetime(df[\"InvoiceDate\"])\n",
    "df[\"Month\"] = df[\"InvoiceDate\"].dt.to_period(\"M\")"
   ]
  },
  {
   "cell_type": "code",
   "execution_count": 15,
   "id": "edbfe522-c349-4029-8144-1b50519fb387",
   "metadata": {},
   "outputs": [],
   "source": [
    "# Add Revenue column\n",
    "df[\"Revenue\"] = df[\"Quantity\"] * df[\"UnitPrice\"]"
   ]
  },
  {
   "cell_type": "code",
   "execution_count": 17,
   "id": "6ebcabd1-7466-4e46-abd4-06587c776867",
   "metadata": {},
   "outputs": [],
   "source": [
    "# Save cleaned data to CSV\n",
    "df.to_csv(\"ecommerce_cleaned.csv\", index=False)"
   ]
  },
  {
   "cell_type": "code",
   "execution_count": 13,
   "id": "8295a5e4-2282-4086-9446-1d692216f82d",
   "metadata": {},
   "outputs": [],
   "source": [
    "returns.to_csv(\"ecommerce_returns.csv\", index=False)"
   ]
  },
  {
   "cell_type": "code",
   "execution_count": null,
   "id": "893e591f-3903-4ffb-9201-61c2ec9c7698",
   "metadata": {},
   "outputs": [],
   "source": []
  }
 ],
 "metadata": {
  "kernelspec": {
   "display_name": "Python [conda env:base] *",
   "language": "python",
   "name": "conda-base-py"
  },
  "language_info": {
   "codemirror_mode": {
    "name": "ipython",
    "version": 3
   },
   "file_extension": ".py",
   "mimetype": "text/x-python",
   "name": "python",
   "nbconvert_exporter": "python",
   "pygments_lexer": "ipython3",
   "version": "3.12.7"
  }
 },
 "nbformat": 4,
 "nbformat_minor": 5
}
